{
 "cells": [
  {
   "cell_type": "markdown",
   "id": "f7fda6df",
   "metadata": {},
   "source": [
    "# series1"
   ]
  },
  {
   "cell_type": "code",
   "execution_count": null,
   "id": "52001ce8",
   "metadata": {},
   "outputs": [],
   "source": [
    "# 1. Program to Find ASCII Value of a character\n",
    "character=input(\"enter character::\")\n",
    "print(\"value of \",character ,\"is\", ord(character))"
   ]
  },
  {
   "cell_type": "code",
   "execution_count": 13,
   "id": "b39a89b3",
   "metadata": {},
   "outputs": [
    {
     "name": "stdout",
     "output_type": "stream",
     "text": [
      "12\n",
      "34\n",
      "After swapping: \n",
      "34\n",
      "34\n"
     ]
    }
   ],
   "source": [
    "# 2. Program to Swap Two Numbers (Using 3 variables/using 2 variables)\n",
    "print(\"\\nusing three varibale\\n\")\n",
    "var1=12\n",
    "var2=34\n",
    "# var3=var1\n",
    "# var1=var2\n",
    "# print(var3)\n",
    "# print(var1)\n",
    "\n",
    "print(\"\\nusing two varibale\\n\")\n",
    "var1,var2=var2,var1\n",
    "print(var1)\n",
    "print(var2)"
   ]
  },
  {
   "cell_type": "code",
   "execution_count": null,
   "id": "37b5e1b8",
   "metadata": {},
   "outputs": [],
   "source": [
    "# 3. Program to Find Factorial of a Number\n",
    "number=int(input(\"number is factorial::\")) \n",
    "print(number)\n",
    "factorial=1 \n",
    "for i in range(1,number+1):\n",
    "    factorial=factorial*i\n",
    "    print(factorial)"
   ]
  },
  {
   "cell_type": "code",
   "execution_count": null,
   "id": "17d059c1",
   "metadata": {},
   "outputs": [],
   "source": [
    "# 4. Program to Generate Multiplication Table (user will enter number, end number of table\n",
    "number=int(input(\"enter number for multiplication::\"))\n",
    "for i in range(1,11):\n",
    "    print(number, \"X\", i, \"=\", number*i)"
   ]
  },
  {
   "cell_type": "code",
   "execution_count": null,
   "id": "2268da37",
   "metadata": {},
   "outputs": [],
   "source": [
    "# 5. Program to Reverse a Number\n",
    "number=345\n",
    "number=str(number)\n",
    "print(number[::-1])"
   ]
  },
  {
   "cell_type": "code",
   "execution_count": null,
   "id": "8c423def",
   "metadata": {},
   "outputs": [],
   "source": [
    "# 6. Program to Check Palindrome\n",
    "number=input(\"number is palindrome::\")\n",
    "number=str(number)\n",
    "print(number)\n",
    "number1=number[::-1]\n",
    "if number1==number:\n",
    "    print(\"yes\")\n",
    "else:\n",
    "    print(\"no\")\n"
   ]
  },
  {
   "cell_type": "code",
   "execution_count": null,
   "id": "0deb8cd7",
   "metadata": {},
   "outputs": [],
   "source": [
    "# 7. Program to Check Armstrong Number\n",
    "number = int(input(\"Enter a number: \"))\n",
    "sum = 0\n",
    "temp = number\n",
    "while temp > 0:\n",
    "   digit = temp % 10\n",
    "   sum += digit ** 3\n",
    "   temp //= 10\n",
    "if number == sum:\n",
    "   print(number,\"is an Armstrong number\")\n",
    "else:\n",
    "   print(number,\"is not an Armstrong number\")\n"
   ]
  },
  {
   "cell_type": "code",
   "execution_count": null,
   "id": "4eb1a8b2",
   "metadata": {},
   "outputs": [],
   "source": [
    "# 8. Program to Display Factors of a Number\n",
    "number = int(input(\"enter number: \"))\n",
    "for i in range (1,number+1):\n",
    "    if number%i==0:\n",
    "        print(i,end='')"
   ]
  },
  {
   "cell_type": "markdown",
   "id": "9085d8c0",
   "metadata": {},
   "source": [
    "# series2"
   ]
  },
  {
   "cell_type": "code",
   "execution_count": 5,
   "id": "36e08a10",
   "metadata": {},
   "outputs": [
    {
     "data": {
      "text/plain": [
       "16"
      ]
     },
     "execution_count": 5,
     "metadata": {},
     "output_type": "execute_result"
    }
   ],
   "source": [
    "# 1. Program to calculate the power using recursion\n",
    "def power(base,exponent):\n",
    "    if exponent ==0:\n",
    "        return 1\n",
    "    else:\n",
    "        return base*power(base,exponent-1)\n",
    "result=power(2,4)\n",
    "result\n",
    "# pow(2,exp=4)"
   ]
  },
  {
   "cell_type": "code",
   "execution_count": 51,
   "id": "c049ff77",
   "metadata": {},
   "outputs": [
    {
     "name": "stdout",
     "output_type": "stream",
     "text": [
      "[23, 56, 43, 89, 12]\n",
      "[12, 23, 43, 56, 89]\n",
      "89\n"
     ]
    }
   ],
   "source": [
    "# 2. Program to Find Largest Element of an Array\n",
    "list1=[23,56,43,89,12]\n",
    "print(list1)\n",
    "list1.sort()\n",
    "print(list1)\n",
    "print(list1[-1])"
   ]
  },
  {
   "cell_type": "code",
   "execution_count": 6,
   "id": "a510bdee",
   "metadata": {},
   "outputs": [
    {
     "name": "stdout",
     "output_type": "stream",
     "text": [
      "[13, 23, 5]\n",
      "[61, 107, 24]\n"
     ]
    }
   ],
   "source": [
    "# 3. Program to Multiply Two Matrix Using Multi-dimensional Arrays\n",
    "\n",
    "mat1=[[1,2,3],[5,9,2]]\n",
    "mat1\n",
    "mat2=[[5,7,3],[4,8,1]]\n",
    "mat2\n",
    "\n",
    "result=[[0 for i in range(len(mat2[0])) ] for j in range(len(mat2))]\n",
    "for i in range(len(mat1)):\n",
    "    for j in range(len(mat2[0])):\n",
    "        for k in range(len(mat2)):\n",
    "            result[i][j]=result[i][j]+mat1[i][k]*mat2[k][j]\n",
    "for row in result:\n",
    "    print(row)"
   ]
  },
  {
   "cell_type": "code",
   "execution_count": 7,
   "id": "9753198f",
   "metadata": {},
   "outputs": [
    {
     "name": "stdout",
     "output_type": "stream",
     "text": [
      "number is palindrome::e\n",
      "no\n"
     ]
    }
   ],
   "source": [
    "# 4. Program to Check if An Array Contains a Given Value\n",
    "list1=[\"a\",\"b\",\"c\",\"d\"]\n",
    "number=input(\"number is palindrome::\")\n",
    "if number in list1:\n",
    "    print(\"yes\")\n",
    "else:\n",
    "    print(\"no\")"
   ]
  },
  {
   "cell_type": "code",
   "execution_count": 71,
   "id": "b7cd10fd",
   "metadata": {},
   "outputs": [
    {
     "name": "stdout",
     "output_type": "stream",
     "text": [
      "enter number1::12\n",
      "enter number2::6\n",
      "12\n",
      "6\n",
      "result is: 2.0\n"
     ]
    }
   ],
   "source": [
    "# 5. Program to Create custom exception\n",
    "try:\n",
    "    number1=int(input(\"enter number1::\"))\n",
    "    number2=int(input(\"enter number2::\"))\n",
    "    print(number1)\n",
    "    print(number2)\n",
    "    result=number1/number2\n",
    "    print(\"result is:\",result)\n",
    "except ZeroDivisionError :\n",
    "    print(\"division by zero error occured\")\n",
    "    print(\"enter valid number\")\n"
   ]
  },
  {
   "cell_type": "code",
   "execution_count": 70,
   "id": "1840a4f8",
   "metadata": {},
   "outputs": [
    {
     "name": "stdout",
     "output_type": "stream",
     "text": [
      "hello there\n",
      "good morning\n"
     ]
    }
   ],
   "source": [
    "# 6. Program to Determine the class of an object\n",
    "class car:\n",
    "    def display():\n",
    "        print(\"hello there\")\n",
    "    def show():\n",
    "        print(\"good morning\")\n",
    "    \n",
    "c1=car\n",
    "c1.display()\n",
    "c1.show()\n"
   ]
  },
  {
   "cell_type": "code",
   "execution_count": 55,
   "id": "23228f4a",
   "metadata": {},
   "outputs": [
    {
     "name": "stdout",
     "output_type": "stream",
     "text": [
      "hello there good morning\n"
     ]
    },
    {
     "data": {
      "text/plain": [
       "3"
      ]
     },
     "execution_count": 55,
     "metadata": {},
     "output_type": "execute_result"
    }
   ],
   "source": [
    "# 7. Program to Find the Frequency of Character in a String\n",
    "string=\"hello there good morning\"\n",
    "print(string)\n",
    "string.count(\"e\")"
   ]
  },
  {
   "cell_type": "code",
   "execution_count": 16,
   "id": "620fc0da",
   "metadata": {},
   "outputs": [
    {
     "name": "stdout",
     "output_type": "stream",
     "text": [
      "hello there good morning\n",
      "hello \bthere \bgood \bmorning\n"
     ]
    }
   ],
   "source": [
    "# 8. Program to Remove All Whitespaces from a String\n",
    "string=\"hello there good morning\"\n",
    "print(string)\n",
    "print(\"hello \\bthere \\bgood \\bmorning\")"
   ]
  },
  {
   "cell_type": "code",
   "execution_count": 25,
   "id": "6ad09345",
   "metadata": {},
   "outputs": [
    {
     "name": "stdout",
     "output_type": "stream",
     "text": [
      "number is palindrome::23\n",
      "no\n"
     ]
    }
   ],
   "source": [
    "# Program to Check if An Array Contains a Given Value\n",
    "# list1=[23,56,43,89,12]\n",
    "# number=input(\"number is palindrome::\")\n",
    "# if number in list1:\n",
    "#     print(\"yes\")\n",
    "# else:\n",
    "#     print(\"no\")\n"
   ]
  },
  {
   "cell_type": "code",
   "execution_count": 10,
   "id": "81fba1eb",
   "metadata": {},
   "outputs": [
    {
     "name": "stdout",
     "output_type": "stream",
     "text": [
      "hello\n"
     ]
    },
    {
     "data": {
      "text/plain": [
       "False"
      ]
     },
     "execution_count": 10,
     "metadata": {},
     "output_type": "execute_result"
    }
   ],
   "source": [
    "# 10. Program to Check if a String is Numeric\n",
    "string=\"hello\"\n",
    "print(string)\n",
    "string.isnumeric()"
   ]
  },
  {
   "cell_type": "code",
   "execution_count": null,
   "id": "7a03e055",
   "metadata": {},
   "outputs": [],
   "source": [
    "# abstraction :signature of subclass\n",
    "# abstract hides the unnecessarry data,has two methods: abstractmethod and concrete method \n",
    "\n",
    "from abc import ABC,abstractmethod\n",
    "class person(ABC):\n",
    "    def __init__(self,id,name):\n",
    "        self.id=id\n",
    "        self.name=name\n",
    "     \n",
    "    @abstractmethod\n",
    "    def take_attendance(self, date, status):\n",
    "        pass  \n",
    "    @abstractmethod\n",
    "    def check_attandance(self):\n",
    "        pass\n",
    "        \n",
    "#inheritence\n",
    "# inherits the properties of person class\n",
    "# encapsulate: public data\n",
    "class student(person):\n",
    "    def __init__(self,id,name,marks,contact):\n",
    "        self.id=id\n",
    "        self.name=name\n",
    "        self.marks=marks\n",
    "        self.__contact=contact\n",
    "        self.attendance={}\n",
    "        \n",
    "    def take_attendance(self,date,status):\n",
    "        self.attendance[date]=status\n",
    "        \n",
    "    def check_attandance(self):\n",
    "        return self.attendance\n",
    "    \n",
    "    def details(self):\n",
    "        print(f'\\nid is:{self.id}, name:{self.name}, contact_number:{self.__contact}, marks:{self.marks}')\n",
    "\n",
    "#polymorphism: method overriding\n",
    "class attendancesystem():\n",
    "      def __init__(self):\n",
    "            self.students = []         \n",
    "\n",
    "      def add_students(self, student): #append student data into the list\n",
    "        self.students.append(student)\n",
    "\n",
    "      def take_attendance(self,id,date,status): #\n",
    "        for student in self.students:\n",
    "            if student.id==id:\n",
    "                student.take_attendance(date,status)\n",
    "                break\n",
    "                \n",
    "      def get_stud_attandance(self,id):\n",
    "        for student in self.students:\n",
    "            if student.id == id:\n",
    "                return student.check_attandance()\n",
    "\n",
    "# Student=student(1,\"pallavi\",2314644,86)\n",
    "student1=student(1,\"pallavi\",86,2314644)\n",
    "student2=student(2,\"parth\",75,2314644)\n",
    "student3=student(3,\"aesha\",70,1464486)\n",
    "attendance_system = attendancesystem()\n",
    "attendance_system.add_students(student1)\n",
    "attendance_system.add_students(student2)\n",
    "attendance_system.add_students(student3)\n",
    "attendance_system.take_attendance(1,\"2023-12-12\",\"present\")\n",
    "attendance_system.take_attendance(2,\"2023-12-12\",\"absent\")\n",
    "attendance_system.take_attendance(3,\"2023-12-12\",\"absent\")\n",
    "student1.details()\n",
    "# print(student1._contact)\n",
    "print(attendance_system.get_stud_attandance(1))\n",
    "student2.details()\n",
    "print(attendance_system.get_stud_attandance(2))\n",
    "student3.details()\n",
    "print(attendance_system.get_stud_attandance(3))"
   ]
  }
 ],
 "metadata": {
  "kernelspec": {
   "display_name": "Python 3 (ipykernel)",
   "language": "python",
   "name": "python3"
  },
  "language_info": {
   "codemirror_mode": {
    "name": "ipython",
    "version": 3
   },
   "file_extension": ".py",
   "mimetype": "text/x-python",
   "name": "python",
   "nbconvert_exporter": "python",
   "pygments_lexer": "ipython3",
   "version": "3.9.13"
  }
 },
 "nbformat": 4,
 "nbformat_minor": 5
}
